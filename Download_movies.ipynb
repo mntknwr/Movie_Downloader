{
 "cells": [
  {
   "cell_type": "markdown",
   "metadata": {
    "id": "IU2km9nFsFBa"
   },
   "source": [
    "### **Movie Downloader**"
   ]
  },
  {
   "cell_type": "markdown",
   "metadata": {},
   "source": [
    "#### Simple Python code for downloading any movies directly to Gdrive."
   ]
  },
  {
   "cell_type": "code",
   "execution_count": null,
   "metadata": {
    "colab": {
     "base_uri": "https://localhost:8080/"
    },
    "id": "HRoEboSTlGVw",
    "outputId": "5b965927-6acc-4cc9-8fe0-7cc6ae5a36c3"
   },
   "outputs": [],
   "source": [
    "from google.colab import drive\n",
    "import requests"
   ]
  },
  {
   "cell_type": "code",
   "execution_count": null,
   "metadata": {},
   "outputs": [],
   "source": [
    "drive.mount(\"/content/drive/MyDrive\")"
   ]
  },
  {
   "cell_type": "code",
   "execution_count": null,
   "metadata": {
    "id": "tA79ZjetnsDB"
   },
   "outputs": [],
   "source": [
    "file_url = \"Movies_link\"\n",
    "\t\n",
    "r = requests.get(file_url, stream = True) \n",
    "\n",
    "with open(\"path to store/filename.extension\", \"wb\") as file: \n",
    "\tfor block in r.iter_content(chunk_size = 1024): \n",
    "\t\tif block: \n",
    "\t\t\tfile.write(block) \n"
   ]
  }
 ],
 "metadata": {
  "colab": {
   "collapsed_sections": [],
   "name": "Download movies.ipynb",
   "provenance": []
  },
  "kernelspec": {
   "display_name": "Python 3 (ipykernel)",
   "language": "python",
   "name": "python3"
  },
  "language_info": {
   "codemirror_mode": {
    "name": "ipython",
    "version": 3
   },
   "file_extension": ".py",
   "mimetype": "text/x-python",
   "name": "python",
   "nbconvert_exporter": "python",
   "pygments_lexer": "ipython3",
   "version": "3.9.5"
  }
 },
 "nbformat": 4,
 "nbformat_minor": 1
}
